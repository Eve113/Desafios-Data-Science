{
  "cells": [
    {
      "cell_type": "markdown",
      "metadata": {
        "id": "view-in-github",
        "colab_type": "text"
      },
      "source": [
        "<a href=\"https://colab.research.google.com/github/Eve113/Desafios-Data-Science/blob/main/Python_Data_Science_EPR.ipynb\" target=\"_parent\"><img src=\"https://colab.research.google.com/assets/colab-badge.svg\" alt=\"Open In Colab\"/></a>"
      ]
    },
    {
      "cell_type": "markdown",
      "metadata": {
        "id": "iTItqS4Ngo52"
      },
      "source": [
        "# **Python para Data Science**\n",
        "A continuación se podrá observar algunos desafíos hechos en el aula de alura del curso *Python Data Science Primeros Pasos*"
      ]
    },
    {
      "cell_type": "markdown",
      "metadata": {
        "id": "IO15Xv_wtaqs"
      },
      "source": [
        "Imprime la frase \"Escuela de Datos de Alura\""
      ]
    },
    {
      "cell_type": "code",
      "execution_count": null,
      "metadata": {
        "colab": {
          "base_uri": "https://localhost:8080/"
        },
        "id": "tGUwjEykhMen",
        "outputId": "59e9a7cc-4c7c-4424-8539-f88ff45ac91b"
      },
      "outputs": [
        {
          "name": "stdout",
          "output_type": "stream",
          "text": [
            "Escuela de Datos de Alura\n"
          ]
        }
      ],
      "source": [
        "print(\"Escuela de Datos de Alura\")"
      ]
    },
    {
      "cell_type": "markdown",
      "metadata": {
        "id": "EKdpL64rcIQw"
      },
      "source": [
        "Imprime tu nombre y apellido"
      ]
    },
    {
      "cell_type": "code",
      "execution_count": null,
      "metadata": {
        "colab": {
          "base_uri": "https://localhost:8080/"
        },
        "id": "xwEJFjXHhWYs",
        "outputId": "d4db29c5-5b36-4fe9-c592-41e556d256f6"
      },
      "outputs": [
        {
          "name": "stdout",
          "output_type": "stream",
          "text": [
            "Nombre:Evelyn\n",
            "Apellido: Pareja Ríos\n"
          ]
        }
      ],
      "source": [
        "nombre = \"Evelyn\"\n",
        "Apellido = \"Pareja Ríos\"\n",
        "print(f'Nombre:{nombre}\\nApellido: {Apellido}')"
      ]
    },
    {
      "cell_type": "markdown",
      "metadata": {
        "id": "xv8U1K8AuFoT"
      },
      "source": [
        "Imprime tu primer nombre letra por letra. Por ejemplo, si mi nombre es Álvaro, la salida sería:\n",
        "\n",
        "Á\n",
        "L\n",
        "V\n",
        "A\n",
        "R\n",
        "O"
      ]
    },
    {
      "cell_type": "code",
      "execution_count": null,
      "metadata": {
        "colab": {
          "base_uri": "https://localhost:8080/"
        },
        "id": "DBOKARZji_Sk",
        "outputId": "b240086a-e475-4a33-f703-20fef4501481"
      },
      "outputs": [
        {
          "name": "stdout",
          "output_type": "stream",
          "text": [
            "Ingrese su nombre:Evelyn\n",
            "E\n",
            "v\n",
            "e\n",
            "l\n",
            "y\n",
            "n\n"
          ]
        }
      ],
      "source": [
        "nombre = input(\"Ingrese su nombre:\")\n",
        "for char in nombre:\n",
        "  print(char)"
      ]
    },
    {
      "cell_type": "markdown",
      "metadata": {
        "id": "BPtJJIgauORL"
      },
      "source": [
        "Imprime tu fecha de nacimiento en formato día mes año. Recuerda que los valores de día y año no deben estar entre comillas. Suponiendo una fecha de cumpleaños el 28 de febrero de 2003, el formato debe ser como el siguiente:\n",
        "\n",
        "28 febrero 2003"
      ]
    },
    {
      "cell_type": "code",
      "execution_count": null,
      "metadata": {
        "colab": {
          "base_uri": "https://localhost:8080/"
        },
        "id": "V0crC8qjkkG_",
        "outputId": "b5f3fe1d-d7ad-436f-9989-c77a2ecb5fe0"
      },
      "outputs": [
        {
          "name": "stdout",
          "output_type": "stream",
          "text": [
            "Ingrese su nombre:Evelyn\n",
            "Ingrese su fecha de nacimiento en formato DD/MM/AAAA:13/01/2003\n",
            "Hola Evelyn, tu naciste el: 13 de enero de 2003 un día Lunes\n"
          ]
        }
      ],
      "source": [
        "from datetime import datetime\n",
        "\n",
        "nombre = input(\"Ingrese su nombre:\")\n",
        "Nacimiento = input(\"Ingrese su fecha de nacimiento en formato DD/MM/AAAA:\")\n",
        "\n",
        "try:\n",
        "  fecha_nac = datetime.strptime(Nacimiento, \"%d/%m/%Y\")\n",
        "#Condicional para validar si la fecha ingresada es valida\n",
        "  if fecha_nac > datetime.now():\n",
        "    print(\"La fecha no puede ser en el futuro\")\n",
        "  else:\n",
        "    dia = fecha_nac.strftime(\"%A\")\n",
        "# Traducir días y meses al español\n",
        "    if dia == \"Monday\":\n",
        "      dia = \"Lunes\"\n",
        "    if dia == \"Tuesday\":\n",
        "      dia = \"Martes\"\n",
        "    if dia == \"Wednesday\":\n",
        "      dia = \"Miércoles\"\n",
        "    if dia == \"Thursday\":\n",
        "      dia = \"Jueves\"\n",
        "    if dia == \"Friday\":\n",
        "      dia = \"Viernes\"\n",
        "    if dia == \"Saturday\":\n",
        "      dia = \"Sábado\"\n",
        "    if dia == \"Sunday\":\n",
        "      dia = \"Domingo\"\n",
        "    if fecha_nac.month == 1:\n",
        "      mes = \"enero\"\n",
        "    if fecha_nac.month == 2:\n",
        "      mes = \"febrero\"\n",
        "    if fecha_nac.month == 3:\n",
        "      mes = \"marzo\"\n",
        "    if fecha_nac.month == 4:\n",
        "      mes = \"abril\"\n",
        "    if fecha_nac.month == 5:\n",
        "      mes = \"mayo\"\n",
        "    if fecha_nac.month == 6:\n",
        "      mes = \"junio\"\n",
        "    if fecha_nac.month == 7:\n",
        "      mes = \"julio\"\n",
        "    if fecha_nac.month == 8:\n",
        "      mes = \"agosto\"\n",
        "    if fecha_nac.month == 9:\n",
        "      mes = \"septiembre\"\n",
        "    if fecha_nac.month == 10:\n",
        "      mes = \"octubre\"\n",
        "    if fecha_nac.month == 11:\n",
        "      mes = \"noviembre\"\n",
        "    if fecha_nac.month == 12:\n",
        "      mes = \"diciembre\"\n",
        "  print(f'Hola {nombre}, tu naciste el {fecha_nac.strftime(f\"%d de {mes} de %Y un día {dia}\")}')\n",
        "\n",
        "#Condicional para validar si el formato de la fecha es valido\n",
        "except ValueError:\n",
        "  print(\"Formato de fecha incorrecto. Intente nuevamente.\")"
      ]
    },
    {
      "cell_type": "markdown",
      "metadata": {
        "id": "RPO6mla-p9TJ"
      },
      "source": [
        "En una empresa de venta de bienes raíces, debes crear un código que analice los datos de ventas anuales para ayudar a la dirección en la toma de decisiones. El código debe recopilar los datos de cantidad de ventas durante los años 2022 y 2023 y calcular la variación porcentual. A partir del valor de la variación, se deben proporcionar las siguientes sugerencias:\n",
        "\n",
        "Para una variación superior al 20%: bonificación para el equipo de ventas.\n",
        "Para una variación entre el 2% y el 20%: pequeña bonificación para el equipo de ventas.\n",
        "Para una variación entre el 2% y el -10%: planificación de políticas de incentivo a las ventas.\n",
        "Para bonificaciones inferiores al -10%: recorte de gastos."
      ]
    },
    {
      "cell_type": "code",
      "execution_count": null,
      "metadata": {
        "colab": {
          "base_uri": "https://localhost:8080/"
        },
        "id": "D7G-ub2qKElX",
        "outputId": "97e81eb2-de32-48c1-87ac-b7e6ec532516"
      },
      "outputs": [
        {
          "name": "stdout",
          "output_type": "stream",
          "text": [
            "Ingrese la cantidad de ventas del año actual:12\n",
            "Ingrese la cantidad de ventas del año pasado:0\n",
            "Las ventas aumentaron respecto al año anterior, en el cual no se registraron ingresos, por lo tanto no se calcula la variación porcentual.\n"
          ]
        }
      ],
      "source": [
        "año_nuevo= int(input('Ingrese la cantidad de ventas del año actual:'))\n",
        "año_viejo = int(input('Ingrese la cantidad de ventas del año pasado:'))\n",
        "\n",
        "if año_viejo == 0:\n",
        "  print(\"Las ventas aumentaron respecto al año anterior, en el cual no se registraron ingresos, por lo tanto no se calcula la variación porcentual.\")\n",
        "else:\n",
        "  variacion = ((año_nuevo - año_viejo)/año_viejo)*100\n",
        "  if variacion > 20:\n",
        "    print('Se le dará una bonificación al equipo de ventas')\n",
        "  elif variacion >= 2 and variacion <= 20:\n",
        "    print('Se le dará una pequeña bonificación para el equipo de ventas')\n",
        "  elif variacion >= -10 and variacion < 2:\n",
        "    print('Se hará una planificación de políticas de incentivo a las ventas')\n",
        "  else:\n",
        "    print('Se hará un recorte de gastos')"
      ]
    },
    {
      "cell_type": "markdown",
      "metadata": {
        "id": "uJtSICYHTb8M"
      },
      "source": [
        "En una elección para la gerencia de una empresa con 20 empleados, hay cuatro candidatos. Escribe un programa que calcule al ganador de la elección. La votación se realizó de la siguiente manera:\n",
        "\n",
        "Cada empleado votó por uno de los cuatro candidatos (representados por los números 1, 2, 3 y 4).\n",
        "\n",
        "También se contaron los votos nulos (representados por el número 5) y los votos en blanco (representados por el número 6).\n",
        "\n",
        "Al final de la votación, el programa debe mostrar el número total de votos para cada candidato, los votos nulos y los votos en blanco. Además, debe calcular y mostrar el porcentaje de votos nulos con respecto al total de votos y el porcentaje de votos en blanco con respecto al total de votos."
      ]
    },
    {
      "cell_type": "code",
      "execution_count": null,
      "metadata": {
        "colab": {
          "base_uri": "https://localhost:8080/"
        },
        "id": "e8vqGfZrTatQ",
        "outputId": "aa71bcab-eb2e-4ec1-9040-608018f039fd"
      },
      "outputs": [
        {
          "name": "stdout",
          "output_type": "stream",
          "text": [
            "Ingresa tu voto: 1\n",
            "Ingresa tu voto: 2\n",
            "Ingresa tu voto: 3\n",
            "Ingresa tu voto: 4\n",
            "Ingresa tu voto: 5\n",
            "Voto anulado debido a que se marco un numero distinto de 1,2,3,4 y 6\n",
            "Ingresa tu voto: 4\n",
            "Ingresa tu voto: 3\n",
            "Ingresa tu voto: 4\n",
            "Ingresa tu voto: 5\n",
            "Voto anulado debido a que se marco un numero distinto de 1,2,3,4 y 6\n",
            "Ingresa tu voto: 6\n",
            "Ingresa tu voto: 7\n",
            "Voto anulado debido a que se marco un numero distinto de 1,2,3,4 y 6\n",
            "Ingresa tu voto: 3\n",
            "Ingresa tu voto: 4\n",
            "Ingresa tu voto: 6\n",
            "Ingresa tu voto: 2\n",
            "Ingresa tu voto: 3\n",
            "Ingresa tu voto: 5\n",
            "Voto anulado debido a que se marco un numero distinto de 1,2,3,4 y 6\n",
            "Ingresa tu voto: 6\n",
            "Ingresa tu voto: 4\n",
            "Ingresa tu voto: 4\n",
            "Votos candidato 1: 1\n",
            "Votos candidato 2: 2\n",
            "Votos candidato 3: 4\n",
            "Votos candidato 4: 6\n",
            "Votos nulos: 4\n",
            "Votos en blanco: 3\n",
            "Porcentaje de votos nulos: 20.0\n",
            "Porcentaje de votos en blanco: 15.0\n"
          ]
        }
      ],
      "source": [
        "candidato1 = 0\n",
        "candidato2 = 0\n",
        "candidato3 = 0\n",
        "candidato4 = 0\n",
        "nulos = 0\n",
        "blanco = 0\n",
        "for i in range(0, 20):\n",
        "    voto = int(input('Ingresa tu voto: '))\n",
        "    if voto == 1:\n",
        "        candidato1 += 1\n",
        "    elif voto == 2:\n",
        "        candidato2 += 1\n",
        "    elif voto == 3:\n",
        "        candidato3 += 1\n",
        "    elif voto == 4:\n",
        "        candidato4 += 1\n",
        "    elif voto == 6:\n",
        "        blanco += 1\n",
        "    else:\n",
        "        nulos += 1\n",
        "        print(\"Voto anulado debido a que se marco un numero distinto de 1,2,3,4 y 6\")\n",
        "\n",
        "\n",
        "print(f'Votos candidato 1: {candidato1}')\n",
        "print(f'Votos candidato 2: {candidato2}')\n",
        "print(f'Votos candidato 3: {candidato3}')\n",
        "print(f'Votos candidato 4: {candidato4}')\n",
        "print(f'Votos nulos: {nulos}')\n",
        "print(f'Votos en blanco: {blanco}')\n",
        "print(f'Porcentaje de votos nulos: {(nulos / 20 * 100)}')\n",
        "print(f'Porcentaje de votos en blanco: {(blanco / 20 * 100)}')"
      ]
    },
    {
      "cell_type": "markdown",
      "source": [
        "Escribe un código que lee la lista siguiente y realiza:"
      ],
      "metadata": {
        "id": "O6Ph6ZLMYSJA"
      }
    },
    {
      "cell_type": "code",
      "execution_count": null,
      "metadata": {
        "colab": {
          "base_uri": "https://localhost:8080/"
        },
        "id": "qd92R07JJoR7",
        "outputId": "12069e0c-7193-4bb8-d2d9-4b197670f876"
      },
      "outputs": [
        {
          "output_type": "stream",
          "name": "stdout",
          "text": [
            "La lista tiene 17 números, donde el mayor es 99 y el menor es 11. La suma de los valores es 743.\n"
          ]
        }
      ],
      "source": [
        "lista = [16, 14, 63, 65, 17, 99, 70, 11, 20, 48, 79, 32, 17, 89, 12, 25, 66]\n",
        "# 1. Leer el tamaño de la lista\n",
        "# 2. Leer el valor máximo y mínimo\n",
        "# 3. Calcular la suma de los valores de la lista\n",
        "# 4. Mostrar un mensaje al final: La lista tiene `tamano` números, donde el mayor\n",
        "# es `mayor` y el menor es `menor`. La suma de los valores es `suma`.\n",
        "\n",
        "\n",
        "tamaño = len(lista)\n",
        "mayor = max(lista)\n",
        "menor = min(lista)\n",
        "suma = sum(lista)\n",
        "\n",
        "print(f'La lista tiene {tamaño} números, donde el mayor es {mayor} y el menor es {menor}. La suma de los valores es {suma}.')"
      ]
    },
    {
      "cell_type": "markdown",
      "source": [
        "Escribe una función que genere la tabla de multiplicar de un número entero del 1 al 10, según la elección del usuario. Como ejemplo, para el número 7, la tabla de multiplicar se debe mostrar en el siguiente formato:"
      ],
      "metadata": {
        "id": "kE0nL9-5YZPT"
      }
    },
    {
      "cell_type": "code",
      "source": [
        "import math\n",
        "\n",
        "def tabla(numero):\n",
        "  for i in range(1,11):\n",
        "    if numero <= 10:\n",
        "      print(f'{numero} x {i} = {numero * i}')\n",
        "    else:\n",
        "      print(\"El número ingresado es mayor a 10\")\n",
        "      break\n",
        "\n",
        "numero = int(input('ingrese un número:'))\n",
        "tabla(numero)\n"
      ],
      "metadata": {
        "colab": {
          "base_uri": "https://localhost:8080/"
        },
        "id": "GvDi6hwmYexl",
        "outputId": "bb2e9a06-2ddc-490b-bc12-fd8f3aed86b8"
      },
      "execution_count": null,
      "outputs": [
        {
          "output_type": "stream",
          "name": "stdout",
          "text": [
            "ingrese un número:11\n",
            "El número ingresado es mayor a 10\n"
          ]
        }
      ]
    },
    {
      "cell_type": "markdown",
      "source": [
        "Crea una función que lea la siguiente lista y devuelva una nueva lista con los múltiplos de 3:"
      ],
      "metadata": {
        "id": "VjHx9J0ueCLV"
      }
    },
    {
      "cell_type": "code",
      "source": [
        "import math\n",
        "\n",
        "def multiplos(lista):\n",
        "  lista_nv = []\n",
        "  for i in lista:\n",
        "    if i % 3 == 0:\n",
        "      lista_nv.append(i)\n",
        "  return lista_nv\n",
        "\n",
        "lista = [97, 80, 94, 88, 80, 1, 16, 53, 62, 32, 24, 99]\n",
        "multiplos(lista)\n",
        "\n"
      ],
      "metadata": {
        "colab": {
          "base_uri": "https://localhost:8080/"
        },
        "id": "SknahaQMeDe1",
        "outputId": "9ed9dc89-befd-42b1-c6ab-6259b8d52f5b"
      },
      "execution_count": null,
      "outputs": [
        {
          "output_type": "execute_result",
          "data": {
            "text/plain": [
              "[24, 99]"
            ]
          },
          "metadata": {},
          "execution_count": 23
        }
      ]
    },
    {
      "cell_type": "markdown",
      "source": [
        "Crea una lista de los cuadrados de los números de la siguiente lista [1, 2, 3, 4, 5, 6, 7, 8, 9, 10]. Recuerda utilizar las funciones lambda y map() para calcular el cuadrado de cada elemento de la lista"
      ],
      "metadata": {
        "id": "Er7AxDM4i-5x"
      }
    },
    {
      "cell_type": "code",
      "source": [
        "lista = [1, 2, 3, 4, 5, 6, 7, 8, 9, 10]\n",
        "cuadrados = map(lambda x: x**2, lista)\n",
        "print(list(cuadrados))"
      ],
      "metadata": {
        "colab": {
          "base_uri": "https://localhost:8080/"
        },
        "id": "Mk7xHNGZi8qN",
        "outputId": "9db75021-8143-43ec-fa22-e5dea743c86e"
      },
      "execution_count": null,
      "outputs": [
        {
          "output_type": "stream",
          "name": "stdout",
          "text": [
            "[1, 4, 9, 16, 25, 36, 49, 64, 81, 100]\n"
          ]
        }
      ]
    },
    {
      "cell_type": "markdown",
      "source": [
        "Has sido contratado como científica de datos de una asociación de skate. Para analizar las notas recibidas por los skaters en algunas competiciones a lo largo del año, necesitas crear un código que calcule la puntuación de los atletas. Para ello, tu código debe recibir 5 notas ingresadas por los jueces"
      ],
      "metadata": {
        "id": "bqkThYf_jwdh"
      }
    },
    {
      "cell_type": "code",
      "source": [
        "lista = []\n",
        "jueces = int(input('Ingrese la cantidad de jueces:'))\n",
        "n = jueces + 1\n",
        "for i in range(1,n):\n",
        "  nota = float(input('Ingrese la calificación del jurado:'))\n",
        "  lista.append(nota)\n",
        "puntuación = sum(lista) - min(lista) - max(lista)\n",
        "print(f'La puntuación del competidor es: {puntuación},\\nBaja el número {max(lista)} y el número {min(lista)}')\n"
      ],
      "metadata": {
        "colab": {
          "base_uri": "https://localhost:8080/"
        },
        "id": "esibbBpQj2ql",
        "outputId": "8ba9037f-42e7-444a-c43f-aedce5ed6f49"
      },
      "execution_count": null,
      "outputs": [
        {
          "output_type": "stream",
          "name": "stdout",
          "text": [
            "Ingrese la cantidad de jueces:3\n",
            "Ingrese la calificación del jurado:1\n",
            "Ingrese la calificación del jurado:3\n",
            "Ingrese la calificación del jurado:2\n",
            "La puntuación del competidor es: 2.0,\n",
            "Baja el número 3.0 y el número 1.0\n"
          ]
        }
      ]
    },
    {
      "cell_type": "markdown",
      "source": [
        "Para cumplir con una demanda de una institución educativa para el análisis del rendimiento de sus estudiantes, necesitas crear una función que reciba una lista de 4 notas y devuelva:"
      ],
      "metadata": {
        "id": "7o4tsA-RnX8Q"
      }
    },
    {
      "cell_type": "code",
      "source": [
        "import numpy as np\n",
        "from statistics import mean\n",
        "\n",
        "def estudiante(lista):\n",
        "  for i in range(1,5):\n",
        "    nota = float(input('Ingrese una nota:'))\n",
        "    lista.append(nota)\n",
        "  if sum(lista) / len(lista) >= 3:\n",
        "    situación = 'aprobado'\n",
        "  else:\n",
        "    situación = 'reprobado'\n",
        "  print(f'La mayor nota del curso fue de {max(lista)}, la menor nota fue de {min(lista)}, la media es de {mean(lista)}, la situación del estudiante es de {situación}')\n",
        "\n",
        "lista = []\n",
        "estudiante(lista)"
      ],
      "metadata": {
        "colab": {
          "base_uri": "https://localhost:8080/"
        },
        "id": "pWX88jjxnZJf",
        "outputId": "5cec8872-017a-4d13-cc10-93639f3e91e2"
      },
      "execution_count": null,
      "outputs": [
        {
          "output_type": "stream",
          "name": "stdout",
          "text": [
            "Ingrese una nota:1\n",
            "Ingrese una nota:2\n",
            "Ingrese una nota:5\n",
            "Ingrese una nota:2\n",
            "La mayor nota del curso fue de 5.0, la menor nota fue de 1.0, la media es de 2.5, la situación del estudiante es de reprobado\n"
          ]
        }
      ]
    }
  ],
  "metadata": {
    "colab": {
      "provenance": [],
      "authorship_tag": "ABX9TyM+ynPl+GDslI1rTBrTPwX0",
      "include_colab_link": true
    },
    "kernelspec": {
      "display_name": "Python 3",
      "name": "python3"
    },
    "language_info": {
      "name": "python"
    }
  },
  "nbformat": 4,
  "nbformat_minor": 0
}